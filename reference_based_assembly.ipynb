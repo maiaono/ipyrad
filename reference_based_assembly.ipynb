{
 "cells": [
  {
   "cell_type": "markdown",
   "metadata": {},
   "source": [
    "# Live oak (*Quercus* ser. *Virentes*) Data Assembly using Reference Genome\n",
    "ipyrad is used to create a reference-based assembly of for the live oak dataset. The reference genome used is from Plomoin et al. (2018) and was downloaded from \"oakgenome.fr\"."
   ]
  },
  {
   "cell_type": "code",
   "execution_count": 1,
   "metadata": {},
   "outputs": [],
   "source": [
    "import ipyrad as ip\n",
    "# data_ref = ip.Assembly(\"ReferenceBased\")"
   ]
  },
  {
   "cell_type": "code",
   "execution_count": 8,
   "metadata": {},
   "outputs": [
    {
     "data": {
      "text/plain": [
       "int"
      ]
     },
     "execution_count": 8,
     "metadata": {},
     "output_type": "execute_result"
    }
   ],
   "source": [
    "type(list(ip.assemble.write_outputs.chroms2ints(data_ref, 1).keys())[0]\n",
    "    )"
   ]
  },
  {
   "cell_type": "code",
   "execution_count": 19,
   "metadata": {
    "scrolled": true
   },
   "outputs": [
    {
     "name": "stdout",
     "output_type": "stream",
     "text": [
      "0   assembly_name               ReferenceBased                               \n",
      "1   project_dir                 /rigel/home/moh2112/scratch-dsi/DataAnalysisandNotebooks/reference_based/\n",
      "2   raw_fastq_path                                                           \n",
      "3   barcodes_path                                                            \n",
      "4   sorted_fastq_path           /rigel/home/moh2112/scratch-dsi/rawdata/*.gz \n",
      "5   assembly_method             reference                                    \n",
      "6   reference_sequence          /rigel/home/moh2112/scratch-dsi/DataAnalysisandNotebooks/Q.roburGenome/Qrob_diploid_version_2.fa\n",
      "7   datatype                    rad                                          \n",
      "8   restriction_overhang        ('TGCAG', '')                                \n",
      "9   max_low_qual_bases          5                                            \n",
      "10  phred_Qscore_offset         33                                           \n",
      "11  mindepth_statistical        5                                            \n",
      "12  mindepth_majrule            2                                            \n",
      "13  maxdepth                    10000                                        \n",
      "14  clust_threshold             0.85                                         \n",
      "15  max_barcode_mismatch        0                                            \n",
      "16  filter_adapters             0                                            \n",
      "17  filter_min_trim_len         35                                           \n",
      "18  max_alleles_consens         2                                            \n",
      "19  max_Ns_consens              (5, 5)                                       \n",
      "20  max_Hs_consens              (8, 8)                                       \n",
      "21  min_samples_locus           4                                            \n",
      "22  max_SNPs_locus              (20, 20)                                     \n",
      "23  max_Indels_locus            (8, 8)                                       \n",
      "24  max_shared_Hs_locus         0.5                                          \n",
      "25  trim_reads                  (0, 0, 0, 0)                                 \n",
      "26  trim_loci                   (0, 0, 0, 0)                                 \n",
      "27  output_formats              ('l', 'p', 's', 'v', 'a', 'k', 'u')          \n",
      "28  pop_assign_file                                                          \n"
     ]
    }
   ],
   "source": [
    "data_ref.set_params('assembly_method', \"reference\")\n",
    "data_ref.set_params('sorted_fastq_path', '~/scratch-dsi/rawdata/*.gz')\n",
    "data_ref.set_params('mindepth_statistical', '5')\n",
    "data_ref.set_params('mindepth_majrule', '2')\n",
    "data_ref.set_params('project_dir', '~/scratch-dsi/DataAnalysisandNotebooks/reference_based/')\n",
    "data_ref.set_params('output_formats', 'lpsvaku')\n",
    "# data_ref.set_params('reference_sequence', '~/scratch-dsi/DataAnalysisandNotebooks/Q.roburGenome/Qrob_diploid_version_2.fa')\n",
    "data_ref.set_params('reference_sequence', '/rigel/home/moh2112/scratch-dsi/DataAnalysisandNotebooks/Q.roburGenome/Qrob_diploid_version_2.fa')\n",
    "\n",
    "# data_ref.set_params('reference_sequence', '/rigel/home/moh2112/scratch-dsi/DataAnalysisandNotebooks/Q.roburGenome/Qrob_haploid.fa')\n",
    "\n",
    "data_ref.get_params()"
   ]
  },
  {
   "cell_type": "code",
   "execution_count": 13,
   "metadata": {
    "scrolled": false
   },
   "outputs": [
    {
     "name": "stdout",
     "output_type": "stream",
     "text": [
      "Assembly: ReferenceBased\n",
      "[####################] 100% 0:02:15 | loading reads        | s1 |\n",
      "[####################] 100% 0:23:13 | processing reads     | s2 |\n"
     ]
    }
   ],
   "source": [
    "data_ref.run('12', force=True)"
   ]
  },
  {
   "cell_type": "code",
   "execution_count": 14,
   "metadata": {
    "collapsed": true
   },
   "outputs": [
    {
     "name": "stdout",
     "output_type": "stream",
     "text": [
      "Assembly: ReferenceBased\n",
      "[####################] 100% 0:00:00 | indexing reference   | s3 |\n",
      "[####################] 100% 0:00:02 | concatenating        | s3 |\n",
      "[####################] 100% 0:01:59 | dereplicating        | s3 |\n",
      "[####################] 100% 0:15:45 | mapping reads        | s3 |\n",
      "[####################] 100% 0:10:33 | building clusters    | s3 |\n",
      "[####################] 100% 0:00:11 | calc cluster stats   | s3 |\n",
      "[####################] 100% 0:02:04 | inferring [H, E]     | s4 |\n",
      "[####################] 100% 0:00:10 | calculating depths   | s5 |\n",
      "[####################] 100% 0:00:19 | chunking clusters    | s5 |\n",
      "[####################] 100% 1:07:59 | consens calling      | s5 |\n",
      "[####################] 100% 0:01:03 | indexing alleles     | s5 |\n",
      "[####################] 100% 0:00:37 | concatenating bams   | s6 |\n",
      "[####################] 100% 0:00:10 | building clusters    | s6 |\n",
      "[####################] 100% 0:01:07 | building clusters    | s6 |\n",
      "[####################] 100% 0:02:31 | applying filters     | s7 |\n",
      "[####################] 100% 0:02:00 | building arrays      | s7 |\n",
      "\n",
      "Encountered an unexpected error:\n",
      "KeyError('1')\n"
     ]
    },
    {
     "ename": "RemoteError",
     "evalue": "KeyError('1')",
     "output_type": "error",
     "traceback": [
      "\u001b[0;31m---------------------------------------------------------------------------\u001b[0m\u001b[0;31mKeyError\u001b[0m                                  Traceback (most recent call last)\u001b[0;32m<string>\u001b[0m in \u001b[0;36m<module>\u001b[0;34m()\u001b[0m",
      "\u001b[0;32m~/local/ipyrad/ipyrad/assemble/write_outputs.py\u001b[0m in \u001b[0;36mfill_snp_array\u001b[0;34m(data, ntaxa, nsnps)\u001b[0m",
      "\u001b[1;32m   1544\u001b[0m                         \u001b[0mchrom\u001b[0m\u001b[0;34m,\u001b[0m \u001b[0mpos\u001b[0m \u001b[0;34m=\u001b[0m \u001b[0midxs\u001b[0m\u001b[0;34m.\u001b[0m\u001b[0msplit\u001b[0m\u001b[0;34m(\u001b[0m\u001b[0;34m\",\"\u001b[0m\u001b[0;34m)\u001b[0m\u001b[0;34m[\u001b[0m\u001b[0;36m0\u001b[0m\u001b[0;34m]\u001b[0m\u001b[0;34m.\u001b[0m\u001b[0msplit\u001b[0m\u001b[0;34m(\u001b[0m\u001b[0;34m\":\"\u001b[0m\u001b[0;34m)\u001b[0m\u001b[0;34m\u001b[0m\u001b[0m",
      "\u001b[1;32m   1545\u001b[0m                         \u001b[0mstart\u001b[0m \u001b[0;34m=\u001b[0m \u001b[0mint\u001b[0m\u001b[0;34m(\u001b[0m\u001b[0mpos\u001b[0m\u001b[0;34m.\u001b[0m\u001b[0msplit\u001b[0m\u001b[0;34m(\u001b[0m\u001b[0;34m\"-\"\u001b[0m\u001b[0;34m)\u001b[0m\u001b[0;34m[\u001b[0m\u001b[0;36m0\u001b[0m\u001b[0;34m]\u001b[0m\u001b[0;34m)\u001b[0m\u001b[0;34m\u001b[0m\u001b[0m",
      "\u001b[0;32m-> 1546\u001b[0;31m                         \u001b[0mchromidx\u001b[0m \u001b[0;34m=\u001b[0m \u001b[0mfaidict\u001b[0m\u001b[0;34m[\u001b[0m\u001b[0mchrom\u001b[0m\u001b[0;34m]\u001b[0m\u001b[0;34m\u001b[0m\u001b[0m",
      "\u001b[0m\u001b[1;32m   1547\u001b[0m                         \u001b[0;32mfor\u001b[0m \u001b[0misnp\u001b[0m \u001b[0;32min\u001b[0m \u001b[0mrange\u001b[0m\u001b[0;34m(\u001b[0m\u001b[0msnpsites\u001b[0m\u001b[0;34m.\u001b[0m\u001b[0mshape\u001b[0m\u001b[0;34m[\u001b[0m\u001b[0;36m1\u001b[0m\u001b[0;34m]\u001b[0m\u001b[0;34m)\u001b[0m\u001b[0;34m:\u001b[0m\u001b[0;34m\u001b[0m\u001b[0m",
      "\u001b[1;32m   1548\u001b[0m                             \u001b[0misnpx\u001b[0m \u001b[0;34m=\u001b[0m \u001b[0msnpsidx\u001b[0m\u001b[0;34m[\u001b[0m\u001b[0misnp\u001b[0m\u001b[0;34m]\u001b[0m\u001b[0;34m\u001b[0m\u001b[0m",
      "\u001b[0;31mKeyError\u001b[0m: '1'"
     ]
    }
   ],
   "source": [
    "data_ref.run('34567', force=True)"
   ]
  },
  {
   "cell_type": "code",
   "execution_count": 31,
   "metadata": {
    "scrolled": true
   },
   "outputs": [
    {
     "name": "stdout",
     "output_type": "stream",
     "text": [
      "CRL0001_re_SRR1915528     TGCAGAATTGCCTGTTGATTTCCATGGCAAAACCAGTAGACCCAGGATCGAAAGGCATAAATGGAGCTCTTACGGCTCATGGCAGAACTTCCCAG\r\n",
      "CUCA4_v_SRR1915544        TGCAGAATTGCCTGTTGATTTCCATGGCAAAACCAGTAGACCCAGGATCGAAAGGCATAAATGGAGCTCTTACGGCTCATGGCAGAACTTCCCAG\r\n",
      "CUVN10_v_SRR1915547       TGCAGAATTGCCTGTTGATTTCCATGGCAAAACCAGTAGACCCAGGATCGAAAGGCATAAATGGAGCTCTTACGGCTCATGGCAGAACTTCCCAG\r\n",
      "HNDA09_v_SRR1915558       TGCAGAATTGCCTGTTGATTTCCATGGCAAAACCAGTAGACCCAGGATCGAAAGGCATAAATGGAGCTCTTACGGCTCATGGCAGAACTTCCCAG\r\n",
      "//                                                                                                                       |1:32202-32297,0:91,0:0,0:0|\r\n",
      "CH_re_SRR1915527          GTGGTTGTCTTAGATGAGCTTAGTCCATTTTTAGGCAATACNTTTGAGTCTAGGTGCTGGTTGTCTATTTGTTCTGGTCTATCACCCCCTCCTGCAGTTATTATTARGAAATTATACTCTAATCTCTCTGTGCATGCTGCTGCTACTGGTGGTCAYTTCTTGACTACTTGGATTAGGGGTTTTGAGT\r\n",
      "DO_re_SRR1915530          GTGGTTGTCTTAGATGAGCTTAGTCCATTTTTAGGCAATACNTTTAAGTCTAGGTCCTGGTTGTCTATTTGTTCTGGTCTATCACCTCCTCCTGCAGTTATTATTAGGAAATTATACTCTAATCTCTCTGTGCATGCTGCTGCTTCTGGTGGTCACTTCTTGACTACTTGGATTAGGGGTTTTGAGT\r\n",
      "DU_re_SRR1915531          GTGGTTGTCTTAGATGAGCTTAGTCCATTTTTAGGCAATACNTTTAAGTCTAGGTGCTGGTTGTCTATTTGTTCTGGTCTATCACCTCCTCCTGCAGTTATTATTAGGAAATTATACTCTAATCTCTCTCTGCATGCTGCTGCTACTGGTGGTCACTTCTTGACTACTTGGATTAGGGGTTTTGAGT\r\n",
      "NI_re_SRR1915537          GTGGTTGTCTTAGATGAGCTTAGTCCATTTTTAGGCAATACNTTTGAGTCTAGGGGCTGGTTATCTATTTGTTCTGGTCTATCACCTCCCCCTGCAGTTATTATTAGGAAATTATACTCTAATCTCTCTGTGCATGCTGCTGCTACTGGTGGTCACTTCTTGACTACTTGGATTAGGGGTTTTGAGT\r\n",
      "//                                                                     *        --      -                       -  -                -                      -              -          -                               |1:67257-67444,0:0,0:0,1:0|\r\n",
      "AR_re_SRR1915524          AATTGTGTATTGATTTCCCTGGCAAANCCAGTAGATCCAGNATCGACAGGCATAACTGGAGNTATTANAGCTCAAGGNAGAGGWTCCCNG\r\n",
      "BJSL25_re_SRR1915525      AAKTGTGTATTGATTTCCCTGGCAAACCCAGTAGATCCAGGATCGACAGGCATAACTGGAGTTATTACAGCTCAAGGCAGAGGTTCCCAG\r\n",
      "BJVL19_re_SRR1915526      AATTGTGTATTGATTTCCCTGGCAAACCCAGTAGATCCAGGATCGACAGGCATAACTGGAGTTATTACAGCTCAAGGCAGAGGTTCCCAG\r\n",
      "BJVL19_v_SRR1915540       AATTGTGTATTGATTTCCMTGGCAAACCCAGTAGATCCAGGATCGACAGGCATAACTGGAGTTATTACAGCTCAAGGCAGAGGTTCCCAG\r\n",
      "CH_re_SRR1915527          AATTGTGNATTGATTTCCCTGGCAAACNCAGNAGATCCAGGATCGACAGGCATAACTGGRGKTATTACAGCTNAAGGCAGNGGNTCCCNG\r\n",
      "DU_re_SRR1915531          AATTGTGTATTGATTTCCCTGGCAAACCCAGTAGATCCAGGGTCGACAGGCATAACTGGAGTTATTACAGCTCAAGGCAGAGGTTCCCAG\r\n",
      "EN_re_SRR1915532          AATTGTGTATTGATTTCCCTGGCAAACCCAGTAGATCCAGGATCGACAGGCATAACTGGAGTTATTACAGCTCAAGGCAGAGGTTCCCAG\r\n",
      "FLAB109_re_SRR1915533     AATTGTGTATTGATTTCCCTGGCAAACCCAGTAGATCCAGGATCGACAGGCATAACTGGAGTTATTACAGCTCAAGGCAGAGGTTCCCAG\r\n",
      "FLAB109_v_SRR1915548      AATTGTGTATTGATTTCCCTGGCAAACCCAGTAGATCCAGGATCGACAGGCATAACTGGAGTTATTACAGCTCAAGGCAGAGGTTCCCAG\r\n",
      "FLBA140_re_SRR1915534     AATTGTGTATTGATTTCCCTGGCAAACCCAGTAGATCCAGGATCGACAGGCATAACTGGAGTTATTACAGCTCAAGGCAGAGGTTCCCAG\r\n",
      "FLCK18_v_SRR1915550       AATTGTGTATTGATTTCCCTGGCAAACCCAGTAGATCCAGGATCGACAGGCATAACTGGAGTTATTACAGCTCAAGGCAGAGGTTCCCAG\r\n",
      "FLCK216_v_SRR1915551      AATTGTGTATTGATTTCCCTGGCAAACCCAGTAGATCCAGGATCGACAGGCATAACTGGAGTTATTACAGCTCAAGGCAGAGGTTCCCAG\r\n",
      "FLSA185_v_SRR1915553      AATTGTGTATTGATTTCCCTGGCAAACCCAGTAGATCCAGGATCGACAGGCATAACTGGAGTTATTACAGCTCAAGGCAGAGGTTCCCAG\r\n",
      "FLSF33_v_SRR1915554       AATTGTGTATTGATTTCCCTGGCAAACCCAGTAGATCCAGGATCGACAGGCATAACTGGAGTTATTACAGCTCAAGGCAGAGGTTCCCAG\r\n",
      "FLSF54_re_SRR1915535      AATTGTGTATTGATTTCCCTGGCAAACCCAGTAGATCCAGGATCGACAGGCATAACTGGAGTTATTACAGCTCAAGGCAGAGGTTCCCAG\r\n",
      "HE_re_SRR1915536          AATTGTGTATTGATTTCCCTGGCAAACCCAGTAGATCCAGGATCGACAGGCATAACTGGAGTTATTACAGCTCAAGGCAGAGGTTCCCAG\r\n",
      "LALC2_v_SRR1915559        AATTGTGTATTGATTTCCCTGGCAAACCCAGTAGATCCAGGATCGACAGGCATAACTGGAGTTATTACAGCTCAAGGCAGAGGTTCCCAG\r\n",
      "NI_re_SRR1915537          AATTGTGTATTGATTTCCCTGGCAAACCCAGTAGATCCAGGATCRACAGGCATAACTGGAGTTATTACAGCTCAAGGCAGAGGTTCCCAG\r\n",
      "TXGR3_v_SRR1915564        AATTGTGTATTGATTTCCCTGGCAAACCCAGTAGATCCAGGATCGACAGGCATAACTGGAGTTATTACAGCTCAAGGCAGAGGTTCCCAG\r\n",
      "TXMD3_v_SRR1915565        AATTGTGTATTGATTTCCCTGGCAAACCCAGTAGATCCAGGATCGACAGGCATAACTGGAGTTATTACAGCTCAAGGCAGAGGTTCCCAG\r\n",
      "TXWV2_v_SRR1915566        AATTGTGTATTGATTTCCCTGGCAAACCCAGTAGATCCAGGATCGACAGGCATAACTGGAGTTATTACAGCTCAAGGCAGAGGTTCCCAG\r\n",
      "//                          -               -                      -  -              - -                     -      |1:68638-68728,0:0,0:0,0:0,2:0,1:0,0:0,0:0,0:0,0:0,0:0,1:0,0:0,0:0,0:0,1:0,0:0,2:0,0:0,0:0,0:0|\r\n",
      "CUCA4_v_SRR1915544        AGATTGTTTTAAACTTTTTGTGGGTTTGTGTTATGATATTGTAGTCTTGATTAAAAAATTTTGGTCAGGGCAACATGGTGATCAGTGCAAG\r\n",
      "CUVN10_v_SRR1915547       AGATTGTTTTAAACTTTTTGTGGGTTTGTGTTATGATATTGTAGTCTTGATTAAAAAATTTTGGTCAGGGCAACATGGTGATCAGTGCAAG\r\n",
      "MXED8_v_SRR1915560        AGATTGTTTTAAACTTTTTGTGGGTTTGTGTTATGATATTGTAGTCTTGATTAAAAAATTTTGGTCGGGGCAACATGGTGATCAGTGCAAG\r\n",
      "MXGT4_v_SRR1915561        AGATTGTTTTAAACTTTTTGTGGGTTTGTGTTATGATATTGTAGTCTTGATTAAAAAATTTTGGTCGGGGCAACATGGTGATCAGTGCAAG\r\n",
      "TXMD3_v_SRR1915565        AGATTGTTTTAAACTTTTTGTGGGTTTGTGTTATGATATTGTAGTCTTGATTAAAAAATTTTGGTCGGGGCAACATGGTGATCAGTGCAAG\r\n",
      "//                                                                                          *                        |1:97432-97523,1:0,1:0,1:0,1:0|\r\n",
      "FLBA140_re_SRR1915534     CATTATCTTCAAACACACATAGACATGCATGGAGAGAAAGGAGAAATCGTCTTTGCTCCACCACACCGCCACCGTTGCTTCTCCTCATCACTGCA\r\n",
      "FLBA140_v_SRR1915549      CATTATCTTCAAACACACATAGACACGCATGAAGAGAAATGAGAAATAGCCTTTGCTCCACCTCACCACCATCGCTGCTCCTCTTCCTCACTGCA\r\n",
      "FLSF54_re_SRR1915535      CATTATCTTCAAACACACATAGACACGCATGAAGAGAAATGAGAAATAGCCTTTGCTCCACCTCACCACCATCGCTGCTCCTCTTCCTCACTGCA\r\n",
      "LALC2_v_SRR1915559        CATTATCTTCAAACACNCATAGACACNCATGNAGAGAAANGAGAAATNGCCTTTGCTCCACCNCANNNCCANCGCTNCTCCTNNTCCTCACTGCA\r\n",
      "MXED8_v_SRR1915560        CATTATCTTCAAACACCCATAGACACACATGGAGAGAAAGGAGAAATCGCCTTTGCTCCACCACATTGCCACCGCTACTCCTCCTCCTCACTGCA\r\n",
      "MXSA3017_v_SRR1915562     CATTATCTTCAAACACACATAGACATGCATGGAGAGAAAGGAGAAATCGTCTTTGCTCCACCACACCGCCACCGTTGCTTCTCCTCATCACTGCA\r\n",
      "TXGR3_v_SRR1915564        CATTATCTTCAAACACACATAGACACGCATGAAGAGAAATGAGAAATAGCCTTTGCTCCACCTCACCACCATCGCTGCTCCTCTTCCTCACTGCA\r\n",
      "//                                        -        *-    *       *       * *            *  --*   *  * -  *   *  *        |1:343533-343628,1:0,4:0,4:0,4:0,3:0,2:0|\r\n",
      "AR_re_SRR1915524          NNNNNNNNNNAGCCCAAGCTCATTTGACGTGTAGGATTTTATGTTTTGCCCTAGGTATAAAAGAGAAAACCCTAGCCA\r\n",
      "BJSL25_re_SRR1915525      NNNNCAACTCAGCCCAAGCCCGTTTGACGTGTAGGATTTTATGTTTTGCCCTAGGTATAAAAGGGAAAACCCTAGCCA\r\n",
      "CRL0001_re_SRR1915528     NNNNNAACTCAGCCTAAGCCCGTTTGATGTGTAGGATTTTATGTTTTGCCCTAGGTATAAAAGGGAAAACCCTAGCCA\r\n",
      "FLBA140_re_SRR1915534     TTTCCAACTTAGCCCAAGCCCGTTTGACGTGTAGGATTTTATATTTTGCCCTAGGTATAAAAGGGAAAACCCTAGCCA\r\n"
     ]
    }
   ],
   "source": [
    "! head -n 50 reference_based/ReferenceBased_outfiles/tmpdir/chunk-0.loci"
   ]
  },
  {
   "cell_type": "markdown",
   "metadata": {},
   "source": [
    "### 11/16: re-running steps 6 and 7 of the assembly to correct corrupted files (e.g. .loci reference file)"
   ]
  },
  {
   "cell_type": "code",
   "execution_count": 2,
   "metadata": {
    "scrolled": false
   },
   "outputs": [
    {
     "name": "stdout",
     "output_type": "stream",
     "text": [
      "New Assembly: ReferenceBased\n",
      "loading Assembly: ReferenceBased\n",
      "from saved path: ~/scratch-dsi/DataAnalysisandNotebooks/reference_based/ReferenceBased.json\n"
     ]
    }
   ],
   "source": [
    "data_ref = ip.load_json(\"./reference_based/ReferenceBased.json\")"
   ]
  },
  {
   "cell_type": "code",
   "execution_count": 3,
   "metadata": {},
   "outputs": [
    {
     "name": "stdout",
     "output_type": "stream",
     "text": [
      "Assembly: ReferenceBased\n",
      "[####################] 100% 0:00:46 | concatenating bams   | s6 |\n",
      "[####################] 100% 0:00:11 | fetching regions     | s6 |\n",
      "[####################] 100% 0:00:12 | building loci        | s6 |\n",
      "[####################] 100% 0:00:26 | applying filters     | s7 |\n",
      "[####################] 100% 0:02:52 | building arrays      | s7 |\n",
      "[####################] 100% 0:01:07 | writing conversions  | s7 |\n",
      "[####################] 100% 0:10:46 | indexing vcf depths  | s7 |\n",
      "[####################] 100% 0:07:55 | writing vcf output   | s7 |\n"
     ]
    }
   ],
   "source": [
    "data_ref.run('67', force=True)"
   ]
  },
  {
   "cell_type": "code",
   "execution_count": null,
   "metadata": {},
   "outputs": [],
   "source": []
  }
 ],
 "metadata": {
  "kernelspec": {
   "display_name": "Python 3",
   "language": "python",
   "name": "python3"
  },
  "language_info": {
   "codemirror_mode": {
    "name": "ipython",
    "version": 3
   },
   "file_extension": ".py",
   "mimetype": "text/x-python",
   "name": "python",
   "nbconvert_exporter": "python",
   "pygments_lexer": "ipython3",
   "version": "3.6.6"
  }
 },
 "nbformat": 4,
 "nbformat_minor": 2
}
